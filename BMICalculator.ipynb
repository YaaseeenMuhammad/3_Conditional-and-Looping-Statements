{
  "nbformat": 4,
  "nbformat_minor": 0,
  "metadata": {
    "colab": {
      "provenance": []
    },
    "kernelspec": {
      "name": "python3",
      "display_name": "Python 3"
    },
    "language_info": {
      "name": "python"
    }
  },
  "cells": [
    {
      "cell_type": "markdown",
      "source": [
        "# Exercise 3\n",
        "\n",
        "Name your file: BodyMassIndex.py\n",
        "\n",
        "Write a program to calculate your BMI and give weight status. Body Mass Index (BMI) is an internationally used measurement to check if you are a healthy weight for your height.The metric BMI formula accepts weight in kilograms and\n",
        "\n",
        "height in meters:\n",
        "\n",
        "BMI= weight(kg)/height2(m2)\n",
        "\n",
        "BMI Weight Status Categories table\n",
        "\n",
        "BMI range - kg/m2   Category\n",
        "\n",
        "Below 18.5                    Underweight\n",
        "\n",
        "18.5 -24.9         Normal\n",
        "\n",
        "25 - 29.9          Overweight\n",
        "\n",
        "30 & Above     Obese\n",
        "\n",
        "\n",
        "### An example run of the program (Numbers in bold are typed in by the user)\n",
        "\n",
        "Enter your weight in (kg): 75\n",
        "\n",
        "Enter your height in (m): 1.70\n",
        "\n",
        "Your BMI is: 25.95\n",
        "\n",
        "You are in the “overweight” range.\n"
      ],
      "metadata": {
        "id": "w-VkfBrxE1Yo"
      }
    },
    {
      "cell_type": "code",
      "execution_count": 7,
      "metadata": {
        "colab": {
          "base_uri": "https://localhost:8080/"
        },
        "id": "5YIqMiGKEn-D",
        "outputId": "5844c579-29b3-4716-e3da-28fa2b55ae8e"
      },
      "outputs": [
        {
          "output_type": "stream",
          "name": "stdout",
          "text": [
            "Enter your weight in (KG): 70\n",
            "Enter your height in (Mtr): 1.75\n",
            "Your BMI is: 22.86\n",
            "You are in the 'Normal' range.\n"
          ]
        }
      ],
      "source": [
        "# BodyMassIndex.py\n",
        "Weight = float(input(\"Enter your weight in (KG): \"))\n",
        "Height = float(input(\"Enter your height in (Mtr): \"))\n",
        "\n",
        "BMI = Weight / (Height**2)\n",
        "print(\"Your BMI is:\", round(BMI, 2))\n",
        "if BMI < 18.5:\n",
        "    print(\"You are in the 'Underweight' range.\")\n",
        "elif 18.5 <= BMI < 24.9:\n",
        "    print(\"You are in the 'Normal' range.\")\n",
        "elif 25 <= BMI < 29.9:\n",
        "    print(\"You are in the 'Overweight' range.\")\n",
        "else:\n",
        "    print(\"You are in the 'Obese' range.\")\n"
      ]
    }
  ]
}