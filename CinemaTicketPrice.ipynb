{
  "nbformat": 4,
  "nbformat_minor": 0,
  "metadata": {
    "colab": {
      "provenance": []
    },
    "kernelspec": {
      "name": "python3",
      "display_name": "Python 3"
    },
    "language_info": {
      "name": "python"
    }
  },
  "cells": [
    {
      "cell_type": "markdown",
      "source": [
        "# Exercise 2\n",
        "\n",
        "A certain cinema currently sells tickets for a full price of 6 pounds, but always sells tickets for half price to people who are less than 16 years old, and for a third of the price for people who are 60 years old or more.\n",
        "\n",
        "An example run of the program (numbers in bold are typed in by the user)\n",
        "\n",
        "Enter your age: 63\n",
        "\n",
        "Your ticket costs £2.00"
      ],
      "metadata": {
        "id": "c9H-vFeSC79R"
      }
    },
    {
      "cell_type": "code",
      "source": [
        "# Cinema Ticket Price Program\n",
        "age = int(input(\"Enter your age: \"))\n",
        "if age < 16:\n",
        "  print(\"Your ticket costs £3.00\")\n",
        "elif age >= 60:\n",
        "  print(\"Your ticket costs £2.00\")\n",
        "else:\n",
        "  print(\"Your ticket costs £6.00\")"
      ],
      "metadata": {
        "colab": {
          "base_uri": "https://localhost:8080/"
        },
        "id": "AQYNer-sDT9H",
        "outputId": "e319cdc7-ba0c-404a-9f82-7cd5a788d3f0"
      },
      "execution_count": 6,
      "outputs": [
        {
          "output_type": "stream",
          "name": "stdout",
          "text": [
            "Enter your age: 36\n",
            "Your ticket costs £6.00\n"
          ]
        }
      ]
    }
  ]
}