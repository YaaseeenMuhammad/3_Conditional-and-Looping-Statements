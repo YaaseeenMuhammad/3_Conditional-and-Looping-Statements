{
  "nbformat": 4,
  "nbformat_minor": 0,
  "metadata": {
    "colab": {
      "provenance": [],
      "collapsed_sections": [
        "9w_JmJ5xQkew",
        "1azRDDKmRQrg",
        "Ig84Dxd1UW7A",
        "FbdiR4ys5YoX",
        "xfmk2ohZ8FG2",
        "HzmommcP9N22",
        "cmO6n0is_7of"
      ]
    },
    "kernelspec": {
      "name": "python3",
      "display_name": "Python 3"
    },
    "language_info": {
      "name": "python"
    }
  },
  "cells": [
    {
      "cell_type": "markdown",
      "source": [
        "# Exercise 4\n",
        "\n",
        "Write a Python program to receive 3 numbers from the user and print the greatest among them.\n"
      ],
      "metadata": {
        "id": "9w_JmJ5xQkew"
      }
    },
    {
      "cell_type": "code",
      "execution_count": 2,
      "metadata": {
        "colab": {
          "base_uri": "https://localhost:8080/"
        },
        "id": "fznwH06yQjnF",
        "outputId": "6b9c32af-3c7a-4031-8fb7-2d7dad45b1e6"
      },
      "outputs": [
        {
          "output_type": "stream",
          "name": "stdout",
          "text": [
            "Enter first number: 1\n",
            "Enter second number: 2\n",
            "Enter third number: 3\n",
            "The greatest number is: 3.0\n"
          ]
        }
      ],
      "source": [
        "#Find the greatest of 3 numbers\n",
        "a= float(input(\"Enter first number: \"))\n",
        "b= float(input(\"Enter second number: \"))\n",
        "c= float(input(\"Enter third number: \"))\n",
        "\n",
        "BiggestNumber= max(a,b,c)\n",
        "print(\"The greatest number is:\", BiggestNumber)"
      ]
    },
    {
      "cell_type": "markdown",
      "source": [
        "# Exercise 5\n",
        "\n",
        "Find the factorial of a given number using loops(Note: The number is received from the user)\n"
      ],
      "metadata": {
        "id": "1azRDDKmRQrg"
      }
    },
    {
      "cell_type": "code",
      "source": [
        "#Factorial of a number\n",
        "Number = int(input(\"Enter a number to find its factorial: \"))\n",
        "factorial = 1\n",
        "\n",
        "for i in range(1, Number + 1):\n",
        "    factorial *= i\n",
        "\n",
        "print(\"The factorial of\", Number, \"is\", factorial, \".\")"
      ],
      "metadata": {
        "colab": {
          "base_uri": "https://localhost:8080/"
        },
        "id": "ZbLe8PR5RYe4",
        "outputId": "dd21b242-f1a5-4c31-c47f-4ec0fb07e9d4"
      },
      "execution_count": 9,
      "outputs": [
        {
          "output_type": "stream",
          "name": "stdout",
          "text": [
            "Enter a number to find its factorial: 5\n",
            "The factorial of 5 is 120 .\n"
          ]
        }
      ]
    },
    {
      "cell_type": "markdown",
      "source": [
        "# Exercise 6\n",
        "\n",
        "Reverse a number using while loop"
      ],
      "metadata": {
        "id": "Ig84Dxd1UW7A"
      }
    },
    {
      "cell_type": "code",
      "source": [
        "# Reverse a number using while loop\n",
        "a=int(input(\"Enter a number to reverse: \"))\n",
        "ReversedNumber=0\n",
        "while a>0:\n",
        "    b=a%10\n",
        "    ReversedNumber=ReversedNumber*10+b\n",
        "    a//=10\n",
        "print(\"The reversed number is:\", ReversedNumber)"
      ],
      "metadata": {
        "colab": {
          "base_uri": "https://localhost:8080/"
        },
        "id": "H_X-g4-MUbqA",
        "outputId": "a1ed8b22-cfe6-4b9e-f4ef-eb1e29e15d50"
      },
      "execution_count": 16,
      "outputs": [
        {
          "output_type": "stream",
          "name": "stdout",
          "text": [
            "Enter a number to reverse: 100\n",
            "The reversed number is: 1\n"
          ]
        }
      ]
    },
    {
      "cell_type": "code",
      "source": [
        "#OR\n",
        "a = int(input(\"Enter a number to reverse: \"))\n",
        "OriginalLength = len(str(a))# Get the number of digits in the original number\n",
        "ReversedNumber = 0\n",
        "while a>0:\n",
        "    b=a%10\n",
        "    ReversedNumber = ReversedNumber * 10 + b\n",
        "    a//=10\n",
        "# Convert the reversed number to a string and pad with leading zeros if necessary\n",
        "ReversedStr = str(ReversedNumber).zfill(OriginalLength)\n",
        "print(\"The reversed number is:\", ReversedStr)"
      ],
      "metadata": {
        "colab": {
          "base_uri": "https://localhost:8080/"
        },
        "id": "GdhUkeCnZ6p4",
        "outputId": "cc3f7c7f-e92c-4797-fc6d-3b07d51ce615"
      },
      "execution_count": 22,
      "outputs": [
        {
          "output_type": "stream",
          "name": "stdout",
          "text": [
            "Enter a number to reverse: 102030\n",
            "The reversed number is: 030201\n"
          ]
        }
      ]
    },
    {
      "cell_type": "markdown",
      "source": [
        "# Exercise 7\n",
        "\n",
        "Finding the multiples of a number using loop"
      ],
      "metadata": {
        "id": "FbdiR4ys5YoX"
      }
    },
    {
      "cell_type": "code",
      "source": [
        "#Finding the multiples of a number using loop\n",
        "a= int(input(\"Enter a number to find its multiples: \"))\n",
        "l= int(input(\"Enter the limit: \"))\n",
        "for i in range(1, l+ 1):\n",
        "    if i % a == 0:\n",
        "        print(i, \"is a multiple of\", a)"
      ],
      "metadata": {
        "colab": {
          "base_uri": "https://localhost:8080/"
        },
        "id": "E0aAIRpM5cp-",
        "outputId": "b89adea3-ce4a-420e-820b-f045f849be7e"
      },
      "execution_count": 3,
      "outputs": [
        {
          "output_type": "stream",
          "name": "stdout",
          "text": [
            "Enter a number to find its multiples: 5\n",
            "Enter the limit: 23\n",
            "5 is a multiple of 5\n",
            "10 is a multiple of 5\n",
            "15 is a multiple of 5\n",
            "20 is a multiple of 5\n"
          ]
        }
      ]
    },
    {
      "cell_type": "code",
      "source": [
        "#OR\n",
        "a = int(input(\"Enter a number to find its multiples: \"))\n",
        "l = int(input(\"Enter the limit: \"))\n",
        "for i in range(1, l + 1):\n",
        "    print(a, \"*\", i, \"=\",a*i)"
      ],
      "metadata": {
        "colab": {
          "base_uri": "https://localhost:8080/"
        },
        "id": "cHS59qKW7Ij2",
        "outputId": "8578a833-f51a-484c-e44e-76171dd1db4d"
      },
      "execution_count": 10,
      "outputs": [
        {
          "output_type": "stream",
          "name": "stdout",
          "text": [
            "Enter a number to find its multiples: 10\n",
            "Enter the limit: 5\n",
            "10 * 1 = 10\n",
            "10 * 2 = 20\n",
            "10 * 3 = 30\n",
            "10 * 4 = 40\n",
            "10 * 5 = 50\n"
          ]
        }
      ]
    },
    {
      "cell_type": "markdown",
      "source": [
        "# Exercise 8\n",
        "\n",
        "Write a program to print the inputted value as it is and break the loop if the value is 'done'.\n",
        "\n",
        "Example run of the program\n",
        "\n",
        ":hello there\n",
        "\n",
        "hello there\n",
        "\n",
        ":finished\n",
        "\n",
        "finished\n",
        "\n",
        ":done\n",
        "\n",
        "Done\n"
      ],
      "metadata": {
        "id": "xfmk2ohZ8FG2"
      }
    },
    {
      "cell_type": "code",
      "source": [
        "#Print the value and break if 'done'\n",
        "while True:\n",
        "    a= input(\"Enter a value: \")\n",
        "    if a=='done':\n",
        "        print(\"Done\")\n",
        "        break\n",
        "    else:\n",
        "        print(a)\n"
      ],
      "metadata": {
        "colab": {
          "base_uri": "https://localhost:8080/"
        },
        "id": "SQ2bhfFR8b5l",
        "outputId": "0df71ff2-03cd-4d93-d6ba-10e9f8cf5392"
      },
      "execution_count": 14,
      "outputs": [
        {
          "output_type": "stream",
          "name": "stdout",
          "text": [
            "Enter a value: hi\n",
            "hi\n",
            "Enter a value: done\n",
            "Done\n"
          ]
        }
      ]
    },
    {
      "cell_type": "markdown",
      "source": [
        "# Exercise 9\n",
        "\n",
        "Write a program that prints the numbers from 1 to 10. But for multiples of three print \"Fizz\" instead of the number and for the multiple of five print \"Buzz\". For numbers which are multiples of both three and five print \"FizzBuzz\"\n"
      ],
      "metadata": {
        "id": "HzmommcP9N22"
      }
    },
    {
      "cell_type": "code",
      "source": [
        "# FizzBuzz program\n",
        "for i in range(1, 16):\n",
        "    if i%3==0 and i%5==0:\n",
        "        print(\"FizzBuzz\")\n",
        "    elif i%3==0:\n",
        "        print(\"Fizz\")\n",
        "    elif i%5==0:\n",
        "        print(\"Buzz\")\n",
        "    else:\n",
        "        print(i)"
      ],
      "metadata": {
        "colab": {
          "base_uri": "https://localhost:8080/"
        },
        "id": "UHkG5SRE9nm9",
        "outputId": "10f9d53e-6c04-4e0b-c1ed-2c1f6d91460a"
      },
      "execution_count": 16,
      "outputs": [
        {
          "output_type": "stream",
          "name": "stdout",
          "text": [
            "1\n",
            "2\n",
            "Fizz\n",
            "4\n",
            "Buzz\n",
            "Fizz\n",
            "7\n",
            "8\n",
            "Fizz\n",
            "Buzz\n",
            "11\n",
            "Fizz\n",
            "13\n",
            "14\n",
            "FizzBuzz\n"
          ]
        }
      ]
    },
    {
      "cell_type": "code",
      "source": [
        "# Input: receive two numbers between 1 and 10\n",
        "a=int(input(\"Enter the first number (1 to 10): \"))\n",
        "b=int(input(\"Enter the second number (1 to 10): \"))\n",
        "c=a*b\n",
        "if c%3==0 and c%5== 0:\n",
        "    print(\"FizzBuzz\")\n",
        "elif c%3==0:\n",
        "    print(\"Fizz\")\n",
        "elif c%5==0:\n",
        "    print(\"Buzz\")\n",
        "else:\n",
        "    print(c)"
      ],
      "metadata": {
        "colab": {
          "base_uri": "https://localhost:8080/"
        },
        "id": "pmUMN1x9_Fe_",
        "outputId": "efcb0c38-05f1-4390-8915-33bc10483613"
      },
      "execution_count": 22,
      "outputs": [
        {
          "output_type": "stream",
          "name": "stdout",
          "text": [
            "Enter the first number (1 to 10): 10\n",
            "Enter the second number (1 to 10): 3\n",
            "FizzBuzz\n"
          ]
        }
      ]
    },
    {
      "cell_type": "markdown",
      "source": [
        "# Exercise 10\n",
        "\n",
        "Write a program to print the following pattern:\n",
        "\n",
        "\n",
        "5 4 3 2 1\n",
        "\n",
        "4 3 2 1\n",
        "\n",
        "3 2 1\n",
        "\n",
        "2 1\n",
        "\n",
        "1\n"
      ],
      "metadata": {
        "id": "cmO6n0is_7of"
      }
    },
    {
      "cell_type": "code",
      "source": [
        "# Print the pattern\n",
        "for i in range(5, 0, -1):\n",
        "    for j in range(i, 0, -1):\n",
        "        print(j, end=\" \")\n",
        "    print()"
      ],
      "metadata": {
        "colab": {
          "base_uri": "https://localhost:8080/"
        },
        "id": "VYC7aRxWBvZ3",
        "outputId": "445a5af4-6c10-45bc-9b8d-8803076afee0"
      },
      "execution_count": 23,
      "outputs": [
        {
          "output_type": "stream",
          "name": "stdout",
          "text": [
            "5 4 3 2 1 \n",
            "4 3 2 1 \n",
            "3 2 1 \n",
            "2 1 \n",
            "1 \n"
          ]
        }
      ]
    }
  ]
}