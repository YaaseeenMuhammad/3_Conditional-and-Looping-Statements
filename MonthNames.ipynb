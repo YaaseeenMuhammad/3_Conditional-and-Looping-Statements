{
  "nbformat": 4,
  "nbformat_minor": 0,
  "metadata": {
    "colab": {
      "provenance": []
    },
    "kernelspec": {
      "name": "python3",
      "display_name": "Python 3"
    },
    "language_info": {
      "name": "python"
    }
  },
  "cells": [
    {
      "cell_type": "markdown",
      "source": [
        "# *Exercise 1*\n",
        "\n",
        "## Name your file: MonthNames.py\n",
        "\n",
        "Write a program that reads an integer value between 1 and 12 from the user and prints output the corresponding month of the year.\n",
        "\n",
        "An example run of the program (numbers in bold are typed in by the user)\n",
        "\n",
        "Enter the month: 3\n",
        "\n",
        "Month 3 is March"
      ],
      "metadata": {
        "id": "CCDdBm0_qnw3"
      }
    },
    {
      "cell_type": "code",
      "source": [
        "MonthNumber = int(input(\"Enter the month(1 to 12):\"))\n",
        "if MonthNumber == 1:\n",
        "    print(\"Month\", MonthNumber, \"is January\")\n",
        "elif MonthNumber == 2:\n",
        "    print(\"Month\", MonthNumber, \"is February\")\n",
        "elif MonthNumber == 3:\n",
        "    print(\"Month\", MonthNumber, \"is March\")\n",
        "elif MonthNumber == 4:\n",
        "    print(\"Month\", MonthNumber, \"is April\")\n",
        "elif MonthNumber == 5:\n",
        "    print(\"Month\", MonthNumber, \"is May\")\n",
        "elif MonthNumber == 6:\n",
        "    print(\"Month\", MonthNumber, \"is June\")\n",
        "elif MonthNumber == 7:\n",
        "    print(\"Month\", MonthNumber, \"is July\")\n",
        "elif MonthNumber == 8:\n",
        "    print(\"Month\", MonthNumber, \"is August\")\n",
        "elif MonthNumber == 9:\n",
        "    print(\"Month\", MonthNumber, \"is September\")\n",
        "elif MonthNumber == 10:\n",
        "    print(\"Month\", MonthNumber, \"is October\")\n",
        "elif MonthNumber == 11:\n",
        "    print(\"Month\", MonthNumber, \"is November\")\n",
        "elif MonthNumber == 12:\n",
        "    print(\"Month\", MonthNumber, \"is December\")\n",
        "else:\n",
        "    print(\"Invalid month number.\")"
      ],
      "metadata": {
        "colab": {
          "base_uri": "https://localhost:8080/"
        },
        "id": "wWqgOb05rPaH",
        "outputId": "b5191511-9d4b-41fb-f3ae-97baef5ace95"
      },
      "execution_count": 10,
      "outputs": [
        {
          "output_type": "stream",
          "name": "stdout",
          "text": [
            "Enter the month(1 to 12):2\n",
            "Month 2 is February\n"
          ]
        }
      ]
    },
    {
      "cell_type": "code",
      "source": [
        "\n",
        "#OR\n",
        "Month_Number = int(input(\"Enter the month number(1 to 12): \"))\n",
        "\n",
        "Months = [\"January\",\"February\",\"March\",\"April\",\"May\",\"June\",\"July\",\"August\",\"September\",\"October\",\"November\",\"December\"]\n",
        "\n",
        "if 1<= Month_Number<= 12:\n",
        "    print(\"Month\", Month_Number, \"is\", Months[Month_Number - 1])\n",
        "else:\n",
        "    print(\"Invalid month number.\")\n"
      ],
      "metadata": {
        "colab": {
          "base_uri": "https://localhost:8080/"
        },
        "id": "OG9I0jset_-_",
        "outputId": "7f685a57-51f5-47b3-a898-7569f630fcf4"
      },
      "execution_count": 16,
      "outputs": [
        {
          "output_type": "stream",
          "name": "stdout",
          "text": [
            "Enter the month number(1 to 12): 12\n",
            "Month 12 is December\n"
          ]
        }
      ]
    }
  ]
}